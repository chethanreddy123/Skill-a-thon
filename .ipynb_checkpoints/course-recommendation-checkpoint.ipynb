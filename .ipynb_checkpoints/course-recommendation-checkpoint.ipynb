{
 "cells": [
  {
   "cell_type": "code",
   "execution_count": null,
   "metadata": {
    "execution": {
     "iopub.execute_input": "2022-06-24T19:52:03.973919Z",
     "iopub.status.busy": "2022-06-24T19:52:03.973036Z",
     "iopub.status.idle": "2022-06-24T19:52:17.968214Z",
     "shell.execute_reply": "2022-06-24T19:52:17.966861Z",
     "shell.execute_reply.started": "2022-06-24T19:52:03.973806Z"
    }
   },
   "outputs": [],
   "source": [
    "!pip install langdetect"
   ]
  },
  {
   "cell_type": "code",
   "execution_count": null,
   "metadata": {
    "_cell_guid": "b1076dfc-b9ad-4769-8c92-a6c4dae69d19",
    "_uuid": "8f2839f25d086af736a60e9eeb907d3b93b6e0e5",
    "execution": {
     "iopub.execute_input": "2022-06-24T19:52:17.971437Z",
     "iopub.status.busy": "2022-06-24T19:52:17.97075Z",
     "iopub.status.idle": "2022-06-24T19:52:18.558696Z",
     "shell.execute_reply": "2022-06-24T19:52:18.557416Z",
     "shell.execute_reply.started": "2022-06-24T19:52:17.971391Z"
    }
   },
   "outputs": [],
   "source": [
    "import numpy as np # linear algebra\n",
    "import pandas as pd # data processing, CSV file I/O (e.g. pd.read_csv)\n",
    "from statistics import harmonic_mean\n",
    "from langdetect import detect\n",
    "from sklearn.feature_extraction.text import TfidfVectorizer, TfidfTransformer, CountVectorizer\n",
    "from sklearn.preprocessing import MinMaxScaler\n",
    "from sklearn.metrics import f1_score\n",
    "from sklearn.metrics.pairwise import cosine_similarity"
   ]
  },
  {
   "cell_type": "code",
   "execution_count": null,
   "metadata": {
    "execution": {
     "iopub.execute_input": "2022-06-24T19:52:18.560751Z",
     "iopub.status.busy": "2022-06-24T19:52:18.560216Z",
     "iopub.status.idle": "2022-06-24T19:52:18.571099Z",
     "shell.execute_reply": "2022-06-24T19:52:18.569664Z",
     "shell.execute_reply.started": "2022-06-24T19:52:18.560701Z"
    }
   },
   "outputs": [],
   "source": [
    "import os\n",
    "for dirname, _, filenames in os.walk('/kaggle/input'):\n",
    "    for filename in filenames:\n",
    "        print(os.path.join(dirname, filename))\n"
   ]
  },
  {
   "cell_type": "code",
   "execution_count": null,
   "metadata": {
    "execution": {
     "iopub.execute_input": "2022-06-24T19:52:18.574145Z",
     "iopub.status.busy": "2022-06-24T19:52:18.573777Z",
     "iopub.status.idle": "2022-06-24T19:52:18.622799Z",
     "shell.execute_reply": "2022-06-24T19:52:18.621908Z",
     "shell.execute_reply.started": "2022-06-24T19:52:18.574112Z"
    }
   },
   "outputs": [],
   "source": [
    "df = pd.read_csv('/kaggle/input/coursera-course-dataset/coursea_data.csv')\n",
    "df.drop(['Unnamed: 0', 'course_organization'], axis=1, inplace=True)\n",
    "df"
   ]
  },
  {
   "cell_type": "code",
   "execution_count": null,
   "metadata": {
    "execution": {
     "iopub.execute_input": "2022-06-24T19:52:18.62488Z",
     "iopub.status.busy": "2022-06-24T19:52:18.62425Z",
     "iopub.status.idle": "2022-06-24T19:52:18.637917Z",
     "shell.execute_reply": "2022-06-24T19:52:18.636603Z",
     "shell.execute_reply.started": "2022-06-24T19:52:18.624845Z"
    }
   },
   "outputs": [],
   "source": [
    "df.course_students_enrolled.apply(lambda count : count[-1]).value_counts()"
   ]
  },
  {
   "cell_type": "code",
   "execution_count": null,
   "metadata": {
    "execution": {
     "iopub.execute_input": "2022-06-24T19:52:18.640654Z",
     "iopub.status.busy": "2022-06-24T19:52:18.639545Z",
     "iopub.status.idle": "2022-06-24T19:52:18.650927Z",
     "shell.execute_reply": "2022-06-24T19:52:18.649576Z",
     "shell.execute_reply.started": "2022-06-24T19:52:18.640611Z"
    }
   },
   "outputs": [],
   "source": [
    "df = df[df.course_students_enrolled.str.endswith('k')]"
   ]
  },
  {
   "cell_type": "code",
   "execution_count": null,
   "metadata": {
    "execution": {
     "iopub.execute_input": "2022-06-24T19:52:18.65301Z",
     "iopub.status.busy": "2022-06-24T19:52:18.65268Z",
     "iopub.status.idle": "2022-06-24T19:52:18.68661Z",
     "shell.execute_reply": "2022-06-24T19:52:18.684972Z",
     "shell.execute_reply.started": "2022-06-24T19:52:18.65298Z"
    }
   },
   "outputs": [],
   "source": [
    "df['course_students_enrolled'] = df['course_students_enrolled'].apply(lambda enrolled : eval(enrolled[:-1]) * 1000)\n",
    "df"
   ]
  },
  {
   "cell_type": "code",
   "execution_count": null,
   "metadata": {
    "execution": {
     "iopub.execute_input": "2022-06-24T19:52:18.689676Z",
     "iopub.status.busy": "2022-06-24T19:52:18.688614Z",
     "iopub.status.idle": "2022-06-24T19:52:18.699941Z",
     "shell.execute_reply": "2022-06-24T19:52:18.698725Z",
     "shell.execute_reply.started": "2022-06-24T19:52:18.689596Z"
    }
   },
   "outputs": [],
   "source": [
    "minmax_scaler = MinMaxScaler()\n",
    "scaled_ratings = minmax_scaler.fit_transform(df[['course_rating','course_students_enrolled']])"
   ]
  },
  {
   "cell_type": "code",
   "execution_count": null,
   "metadata": {
    "execution": {
     "iopub.execute_input": "2022-06-24T19:52:18.702361Z",
     "iopub.status.busy": "2022-06-24T19:52:18.701641Z",
     "iopub.status.idle": "2022-06-24T19:52:18.74925Z",
     "shell.execute_reply": "2022-06-24T19:52:18.748235Z",
     "shell.execute_reply.started": "2022-06-24T19:52:18.702297Z"
    }
   },
   "outputs": [],
   "source": [
    "df['course_rating'] = scaled_ratings[:,0]\n",
    "df['course_students_enrolled'] = scaled_ratings[:,1]\n",
    "df['overall_rating'] = df[['course_rating','course_students_enrolled']].apply(lambda row : harmonic_mean(row), axis=1)"
   ]
  },
  {
   "cell_type": "code",
   "execution_count": null,
   "metadata": {
    "execution": {
     "iopub.execute_input": "2022-06-24T19:52:18.752252Z",
     "iopub.status.busy": "2022-06-24T19:52:18.751946Z",
     "iopub.status.idle": "2022-06-24T19:52:18.771237Z",
     "shell.execute_reply": "2022-06-24T19:52:18.769844Z",
     "shell.execute_reply.started": "2022-06-24T19:52:18.752222Z"
    }
   },
   "outputs": [],
   "source": [
    "df"
   ]
  },
  {
   "cell_type": "code",
   "execution_count": null,
   "metadata": {
    "execution": {
     "iopub.execute_input": "2022-06-24T19:52:18.774574Z",
     "iopub.status.busy": "2022-06-24T19:52:18.773947Z",
     "iopub.status.idle": "2022-06-24T19:52:26.780423Z",
     "shell.execute_reply": "2022-06-24T19:52:26.779143Z",
     "shell.execute_reply.started": "2022-06-24T19:52:18.774503Z"
    }
   },
   "outputs": [],
   "source": [
    "df = df[df.course_title.apply(lambda title : detect(title) == 'en')]"
   ]
  },
  {
   "cell_type": "code",
   "execution_count": null,
   "metadata": {
    "execution": {
     "iopub.execute_input": "2022-06-24T19:52:26.782436Z",
     "iopub.status.busy": "2022-06-24T19:52:26.782106Z",
     "iopub.status.idle": "2022-06-24T19:52:26.803827Z",
     "shell.execute_reply": "2022-06-24T19:52:26.802639Z",
     "shell.execute_reply.started": "2022-06-24T19:52:26.782406Z"
    }
   },
   "outputs": [],
   "source": [
    "vectorizer = TfidfVectorizer(stop_words='english')\n",
    "vectors = vectorizer.fit_transform(df.course_title)"
   ]
  },
  {
   "cell_type": "code",
   "execution_count": null,
   "metadata": {
    "execution": {
     "iopub.execute_input": "2022-06-24T19:52:26.80573Z",
     "iopub.status.busy": "2022-06-24T19:52:26.805194Z",
     "iopub.status.idle": "2022-06-24T19:52:26.81294Z",
     "shell.execute_reply": "2022-06-24T19:52:26.811759Z",
     "shell.execute_reply.started": "2022-06-24T19:52:26.805687Z"
    }
   },
   "outputs": [],
   "source": [
    "def recommend_by_course_title (title, recomm_count=10) : \n",
    "    title_vector = vectorizer.transform([title])\n",
    "    cosine_sim = cosine_similarity(vectors, title_vector)\n",
    "    idx = np.argsort(np.array(cosine_sim[:,0]))[-recomm_count:]\n",
    "    sdf = df.iloc[idx].sort_values(by='overall_rating', ascending=False)\n",
    "    return sdf"
   ]
  },
  {
   "cell_type": "code",
   "execution_count": null,
   "metadata": {
    "execution": {
     "iopub.execute_input": "2022-06-24T19:52:26.815362Z",
     "iopub.status.busy": "2022-06-24T19:52:26.814316Z",
     "iopub.status.idle": "2022-06-24T19:52:26.841815Z",
     "shell.execute_reply": "2022-06-24T19:52:26.840328Z",
     "shell.execute_reply.started": "2022-06-24T19:52:26.815296Z"
    }
   },
   "outputs": [],
   "source": [
    "recommend_by_course_title('A Crash Course in Data Science')"
   ]
  }
 ],
 "metadata": {
  "kernelspec": {
   "display_name": "Python 3",
   "language": "python",
   "name": "python3"
  },
  "language_info": {
   "codemirror_mode": {
    "name": "ipython",
    "version": 3
   },
   "file_extension": ".py",
   "mimetype": "text/x-python",
   "name": "python",
   "nbconvert_exporter": "python",
   "pygments_lexer": "ipython3",
   "version": "3.6.4"
  }
 },
 "nbformat": 4,
 "nbformat_minor": 4
}
